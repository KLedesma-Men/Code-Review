{
 "cells": [
  {
   "cell_type": "code",
   "execution_count": 4,
   "id": "108f9772-acb4-49d5-83f9-a1550daee726",
   "metadata": {},
   "outputs": [
    {
     "name": "stdout",
     "output_type": "stream",
     "text": [
      "Susan's Body Mass Index (BMI) is: 24.03\n"
     ]
    }
   ],
   "source": [
    "#define weight \n",
    "weight = 60  #replace with patient's actual weight in kg\n",
    "#define height \n",
    "height = 1.58 #replace with patient's height in meters\n",
    "#calculate body mass index\n",
    "BMI = weight / (height **2)  \n",
    "#print BMI as float\n",
    "print(f\"Susan's Body Mass Index (BMI) is: {BMI:.2f}\") \n"
   ]
  }
 ],
 "metadata": {
  "kernelspec": {
   "display_name": "Python 3 (ipykernel)",
   "language": "python",
   "name": "python3"
  },
  "language_info": {
   "codemirror_mode": {
    "name": "ipython",
    "version": 3
   },
   "file_extension": ".py",
   "mimetype": "text/x-python",
   "name": "python",
   "nbconvert_exporter": "python",
   "pygments_lexer": "ipython3",
   "version": "3.12.5"
  }
 },
 "nbformat": 4,
 "nbformat_minor": 5
}
